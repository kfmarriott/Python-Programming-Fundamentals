{
  "nbformat": 4,
  "nbformat_minor": 0,
  "metadata": {
    "colab": {
      "provenance": [],
      "authorship_tag": "ABX9TyO6l8aH7/foTSmGXMqMRqXj",
      "include_colab_link": true
    },
    "kernelspec": {
      "name": "python3",
      "display_name": "Python 3"
    },
    "language_info": {
      "name": "python"
    }
  },
  "cells": [
    {
      "cell_type": "markdown",
      "metadata": {
        "id": "view-in-github",
        "colab_type": "text"
      },
      "source": [
        "<a href=\"https://colab.research.google.com/github/kfmarriott/Python-Programming-Fundamentals/blob/main/In_Class_Assignments.ipynb\" target=\"_parent\"><img src=\"https://colab.research.google.com/assets/colab-badge.svg\" alt=\"Open In Colab\"/></a>"
      ]
    },
    {
      "cell_type": "code",
      "execution_count": 1,
      "metadata": {
        "colab": {
          "base_uri": "https://localhost:8080/",
          "height": 108
        },
        "id": "-77tNVVIgcUd",
        "outputId": "3d8550d0-5ce8-4968-c5f1-499290cec4d8"
      },
      "outputs": [
        {
          "output_type": "error",
          "ename": "SyntaxError",
          "evalue": "invalid syntax (ipython-input-3670268544.py, line 3)",
          "traceback": [
            "\u001b[0;36m  File \u001b[0;32m\"/tmp/ipython-input-3670268544.py\"\u001b[0;36m, line \u001b[0;32m3\u001b[0m\n\u001b[0;31m    Cost of Goods Sold = Sales * 0.4\u001b[0m\n\u001b[0m         ^\u001b[0m\n\u001b[0;31mSyntaxError\u001b[0m\u001b[0;31m:\u001b[0m invalid syntax\n"
          ]
        }
      ],
      "source": [
        "Sales = input(\"Enter Sales: \") # Will always return a string\n",
        "Sales = int(Sales) # Turns string into integer\n",
        "Cost of Goods Sold = Sales * 0.4\n",
        "Gross Profit = Sales - Cost of Goods Sold\n",
        "print(\"Gross Profit\" Gross Profit)\n",
        "print(f\"Gross Profit: {Gross Profit}\")"
      ]
    },
    {
      "cell_type": "code",
      "source": [
        "# Input: sales, cogs_pct and tax rate\n",
        "sales = input(\"Enter sales ($): \")\n",
        "sales = float(sales)\n",
        "\n",
        "cogs_pct = input(\"Enter Cost of Goods Sold (%): \")\n",
        "cogs_pct = float(cogs_pct)\n",
        "\n",
        "taxRate = input(\"Enter Tax Rate (%): \")\n",
        "taxRate = float(taxRate)\n",
        "\n",
        "# Processes: calculate actual cost of goods sold\n",
        "cogs = sales * cogs_pct / 100\n",
        "grossProfit = sales - cogs\n",
        "taxes = grossProfit * (taxRate / 100)\n",
        "netIncome = grossProfit - taxes\n",
        "\n",
        "#Outputs: display cogs and grossProfit\n",
        "print(f\"Cost of Goods sold: ${cogs}\")\n",
        "print(f\"Gross Profit: ${grossProfit}\")\n",
        "print(f\"Taxes: ${taxes}\")\n",
        "print(f\"Net Income: ${netIncome}\")"
      ],
      "metadata": {
        "colab": {
          "base_uri": "https://localhost:8080/"
        },
        "id": "yTRxGBTpjbbW",
        "outputId": "0fecba51-4113-4ef7-c386-2de4948b05d2"
      },
      "execution_count": 4,
      "outputs": [
        {
          "output_type": "stream",
          "name": "stdout",
          "text": [
            "Enter sales ($): 12000\n",
            "Enter Cost of Goods Sold (%): 40\n",
            "Enter Tax Rate (%): 30\n",
            "Cost of Goods sold: $4800.0\n",
            "Gross Profit: $7200.0\n",
            "Taxes: $2160.0\n",
            "Net Income: $5040.0\n"
          ]
        }
      ]
    }
  ]
}